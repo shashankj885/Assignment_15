{
 "cells": [
  {
   "cell_type": "markdown",
   "id": "2008e583",
   "metadata": {},
   "source": [
    "Ans1-"
   ]
  },
  {
   "cell_type": "code",
   "execution_count": 2,
   "id": "ada62c3e",
   "metadata": {},
   "outputs": [
    {
     "data": {
      "text/plain": [
       "3600"
      ]
     },
     "execution_count": 2,
     "metadata": {},
     "output_type": "execute_result"
    }
   ],
   "source": [
    "60*60"
   ]
  },
  {
   "cell_type": "markdown",
   "id": "3bc11e1d",
   "metadata": {},
   "source": [
    "Ans2-"
   ]
  },
  {
   "cell_type": "code",
   "execution_count": 4,
   "id": "b9ba6d5e",
   "metadata": {},
   "outputs": [],
   "source": [
    "seconds_per_hour=60*60"
   ]
  },
  {
   "cell_type": "code",
   "execution_count": 5,
   "id": "12a932d6",
   "metadata": {},
   "outputs": [
    {
     "data": {
      "text/plain": [
       "3600"
      ]
     },
     "execution_count": 5,
     "metadata": {},
     "output_type": "execute_result"
    }
   ],
   "source": [
    "seconds_per_hour"
   ]
  },
  {
   "cell_type": "markdown",
   "id": "a3c41824",
   "metadata": {},
   "source": [
    "Ans3-"
   ]
  },
  {
   "cell_type": "code",
   "execution_count": 13,
   "id": "053edbe2",
   "metadata": {},
   "outputs": [],
   "source": [
    "hours_in_day=24\n",
    "seconds_in_day= hours_in_day*seconds_per_hour"
   ]
  },
  {
   "cell_type": "code",
   "execution_count": 14,
   "id": "ec890413",
   "metadata": {},
   "outputs": [
    {
     "data": {
      "text/plain": [
       "86400"
      ]
     },
     "execution_count": 14,
     "metadata": {},
     "output_type": "execute_result"
    }
   ],
   "source": [
    "seconds_in_day"
   ]
  },
  {
   "cell_type": "code",
   "execution_count": 16,
   "id": "b4a4a8ef",
   "metadata": {},
   "outputs": [],
   "source": [
    "minute_per_hour=60\n",
    "seconds_per_minute=60\n",
    "hours_in_day=24\n",
    "\n",
    "seconds_in_day= hours_in_day*minute_per_hour*seconds_per_minute"
   ]
  },
  {
   "cell_type": "code",
   "execution_count": 17,
   "id": "9100c3b0",
   "metadata": {},
   "outputs": [
    {
     "data": {
      "text/plain": [
       "86400"
      ]
     },
     "execution_count": 17,
     "metadata": {},
     "output_type": "execute_result"
    }
   ],
   "source": [
    "seconds_in_day"
   ]
  },
  {
   "cell_type": "markdown",
   "id": "58ea1227",
   "metadata": {},
   "source": [
    "Ans4-"
   ]
  },
  {
   "cell_type": "code",
   "execution_count": 19,
   "id": "c5008729",
   "metadata": {},
   "outputs": [],
   "source": [
    "seconds_per_day=seconds_in_day"
   ]
  },
  {
   "cell_type": "code",
   "execution_count": 20,
   "id": "7d619976",
   "metadata": {},
   "outputs": [
    {
     "data": {
      "text/plain": [
       "86400"
      ]
     },
     "execution_count": 20,
     "metadata": {},
     "output_type": "execute_result"
    }
   ],
   "source": [
    "seconds_per_day"
   ]
  },
  {
   "cell_type": "markdown",
   "id": "3926988b",
   "metadata": {},
   "source": [
    "Ans5-"
   ]
  },
  {
   "cell_type": "code",
   "execution_count": 22,
   "id": "9c571f04",
   "metadata": {},
   "outputs": [
    {
     "data": {
      "text/plain": [
       "24.0"
      ]
     },
     "execution_count": 22,
     "metadata": {},
     "output_type": "execute_result"
    }
   ],
   "source": [
    "seconds_per_day/seconds_per_hour"
   ]
  },
  {
   "cell_type": "markdown",
   "id": "8f3f087a",
   "metadata": {},
   "source": [
    "Ans6-"
   ]
  },
  {
   "cell_type": "code",
   "execution_count": 23,
   "id": "e6558e00",
   "metadata": {},
   "outputs": [
    {
     "data": {
      "text/plain": [
       "24"
      ]
     },
     "execution_count": 23,
     "metadata": {},
     "output_type": "execute_result"
    }
   ],
   "source": [
    "seconds_per_day//seconds_per_hour"
   ]
  },
  {
   "cell_type": "markdown",
   "id": "3b32c67a",
   "metadata": {},
   "source": [
    "yes."
   ]
  },
  {
   "cell_type": "markdown",
   "id": "0c18c3de",
   "metadata": {},
   "source": [
    "Ans7-"
   ]
  },
  {
   "cell_type": "code",
   "execution_count": 28,
   "id": "816b829f",
   "metadata": {},
   "outputs": [],
   "source": [
    "def genPrimes():\n",
    "    primes = [2]\n",
    "    yield primes[0]\n",
    "    guess = 3\n",
    "    while True:\n",
    "        if all(guess%x != 0 for x in primes):\n",
    "            primes.append(guess)        \n",
    "        if guess == primes[-1]:\n",
    "            yield primes[-1]\n",
    "        guess += 2"
   ]
  },
  {
   "cell_type": "code",
   "execution_count": null,
   "id": "4a0eda04",
   "metadata": {},
   "outputs": [],
   "source": []
  }
 ],
 "metadata": {
  "kernelspec": {
   "display_name": "Python 3 (ipykernel)",
   "language": "python",
   "name": "python3"
  },
  "language_info": {
   "codemirror_mode": {
    "name": "ipython",
    "version": 3
   },
   "file_extension": ".py",
   "mimetype": "text/x-python",
   "name": "python",
   "nbconvert_exporter": "python",
   "pygments_lexer": "ipython3",
   "version": "3.9.12"
  }
 },
 "nbformat": 4,
 "nbformat_minor": 5
}
